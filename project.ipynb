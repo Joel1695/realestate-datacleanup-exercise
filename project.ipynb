{
 "cells": [
  {
   "attachments": {},
   "cell_type": "markdown",
   "id": "innocent-university",
   "metadata": {},
   "source": [
    "# Real Estate Clean up\n",
    "\n",
    "This is a real dataset and it was downloaded using web scraping techniques. The data contains registers from fotocasa which is one of the most popular websites of real estate in Spain. Please, do not do this (web scraping) unless it is for academic purposes.\n",
    "\n",
    "The dataset was downloaded a few years ago by Henry Navarro and In no case were economic returns obtained from it.\n",
    "\n",
    "It contains thousands of data from real houses published on the web www.fotocasa.com. Your goal is to extract as much information as possible with the knowledge you have so far about data science, for example what is the most expensive house in the entire dataset?\n",
    "\n",
    "Let's start with precisely that question... Good luck!"
   ]
  },
  {
   "attachments": {},
   "cell_type": "markdown",
   "id": "multiple-glass",
   "metadata": {},
   "source": [
    "#### Exercise 00. Read the dataset assets/real_estate.csv and try to visualize the table (★☆☆)"
   ]
  },
  {
   "cell_type": "code",
   "execution_count": 20,
   "id": "frank-heath",
   "metadata": {},
   "outputs": [
    {
     "name": "stdout",
     "output_type": "stream",
     "text": [
      "       Unnamed: 0  id_realEstates  isNew                    realEstate_name  \\\n",
      "0               1       153771986  False            ferrari 57 inmobiliaria   \n",
      "1               2       153867863  False  tecnocasa fuenlabrada ferrocarril   \n",
      "2               3       153430440  False                 look find boadilla   \n",
      "3               4       152776331  False  tecnocasa fuenlabrada ferrocarril   \n",
      "4               5       153180188  False            ferrari 57 inmobiliaria   \n",
      "...           ...             ...    ...                                ...   \n",
      "15330       15331       153901377  False                infocasa consulting   \n",
      "15331       15332       150394373  False                inmobiliaria pulpon   \n",
      "15332       15333       153901397  False             tecnocasa torrelodones   \n",
      "15333       15334       152607440  False                inmobiliaria pulpon   \n",
      "15334       15335       153901356  False                infocasa consulting   \n",
      "\n",
      "       phone_realEstate                                       url_inmueble  \\\n",
      "0           912177526.0  https://www.fotocasa.es/es/comprar/vivienda/ma...   \n",
      "1           916358736.0  https://www.fotocasa.es/es/comprar/vivienda/ma...   \n",
      "2           916350408.0  https://www.fotocasa.es/es/comprar/vivienda/ma...   \n",
      "3           916358736.0  https://www.fotocasa.es/es/comprar/vivienda/ma...   \n",
      "4           912177526.0  https://www.fotocasa.es/es/comprar/vivienda/ma...   \n",
      "...                 ...                                                ...   \n",
      "15330       911360461.0  https://www.fotocasa.es/es/comprar/vivienda/ma...   \n",
      "15331       912788039.0  https://www.fotocasa.es/es/comprar/vivienda/ma...   \n",
      "15332       912780348.0  https://www.fotocasa.es/es/comprar/vivienda/ma...   \n",
      "15333       912788039.0  https://www.fotocasa.es/es/comprar/vivienda/ma...   \n",
      "15334       911360461.0  https://www.fotocasa.es/es/comprar/vivienda/ma...   \n",
      "\n",
      "       rooms  bathrooms  surface   price                          date  \\\n",
      "0        3.0        2.0    103.0  195000  2019-12-28T18:27:15.9975027Z   \n",
      "1        3.0        1.0      NaN   89000  2019-12-28T18:27:15.9975027Z   \n",
      "2        2.0        2.0     99.0  390000  2019-12-28T18:27:15.9975027Z   \n",
      "3        3.0        1.0     86.0   89000  2019-12-28T18:27:15.9975027Z   \n",
      "4        2.0        2.0    106.0  172000  2019-12-28T18:27:15.9975027Z   \n",
      "...      ...        ...      ...     ...                           ...   \n",
      "15330    2.0        1.0     96.0  259470          2019-12-17T18:19:00Z   \n",
      "15331    3.0        1.0    150.0  165000          2019-12-17T18:19:00Z   \n",
      "15332    4.0        2.0    175.0  495000          2019-12-17T18:19:00Z   \n",
      "15333    3.0        2.0    101.0  195000          2019-12-17T18:18:00Z   \n",
      "15334    3.0        2.0    152.0  765000          2019-12-17T18:17:00Z   \n",
      "\n",
      "                                             description  \\\n",
      "0      Ponemos a la venta piso de 3 dormitorios con t...   \n",
      "1      \"\"Agencia inmobiliaria de FUENLABRADA - zona F...   \n",
      "2      Lookandfind Boadilla, vende en exclusiva, piso...   \n",
      "3      Agencia inmobiliaria de FUENLABRADA - zona Fue...   \n",
      "4      PISOS DE OBRA NUEVA DE 2 Y 3 DORMITORIOS. OBRA...   \n",
      "...                                                  ...   \n",
      "15330  ¡¡¡IDEAL PROFESIONALES E INVERSORES¡¡¡ \\nINFOC...   \n",
      "15331  Planta baja con cocinas, una de ellos posibili...   \n",
      "15332                                                NaN   \n",
      "15333  Piso de 3 dormitorios con armarios empotrados,...   \n",
      "15334  INFOCASA vende este bonito piso reformado con ...   \n",
      "\n",
      "                                                 address country  level1  \\\n",
      "0      Calle Presidente Felipe Gonzalez, Arganda del Rey  España  Madrid   \n",
      "1                       Calle Polvoranca, 6, Fuenlabrada  España  Madrid   \n",
      "2              Calle Reyes Católicos, Boadilla del Monte  España  Madrid   \n",
      "3                         Barrio San Andres, Fuenlabrada  España  Madrid   \n",
      "4                                        Arganda del Rey  España  Madrid   \n",
      "...                                                  ...     ...     ...   \n",
      "15330                                     Madrid Capital  España  Madrid   \n",
      "15331                             Velilla de San Antonio  España  Madrid   \n",
      "15332                                       Torrelodones  España  Madrid   \n",
      "15333                             Velilla de San Antonio  España  Madrid   \n",
      "15334            Paseo de la Castellana,  Madrid Capital  España  Madrid   \n",
      "\n",
      "       level2                          level3  \\\n",
      "0      Madrid  Madrid Sureste - Cuenca Tajuña   \n",
      "1      Madrid              Zona Sur de Madrid   \n",
      "2      Madrid                   Zona Noroeste   \n",
      "3      Madrid              Zona Sur de Madrid   \n",
      "4      Madrid  Madrid Sureste - Cuenca Tajuña   \n",
      "...       ...                             ...   \n",
      "15330  Madrid                 Madrid, Zona de   \n",
      "15331  Madrid  Madrid Sureste - Cuenca Tajuña   \n",
      "15332  Madrid                   Zona Noroeste   \n",
      "15333  Madrid  Madrid Sureste - Cuenca Tajuña   \n",
      "15334  Madrid                 Madrid, Zona de   \n",
      "\n",
      "                                level4                  level5 level6  \\\n",
      "0             Arganda del Rey, Zona de         Arganda del Rey    NaN   \n",
      "1                 Fuenlabrada, Zona de             Fuenlabrada    NaN   \n",
      "2          Boadilla del Monte, Zona de      Boadilla del Monte    NaN   \n",
      "3                 Fuenlabrada, Zona de             Fuenlabrada    NaN   \n",
      "4             Arganda del Rey, Zona de         Arganda del Rey    NaN   \n",
      "...                                ...                     ...    ...   \n",
      "15330                              NaN          Madrid Capital    NaN   \n",
      "15331  Velilla de San Antonio, Zona de  Velilla de San Antonio    NaN   \n",
      "15332            Torrelodones, Zona de            Torrelodones    NaN   \n",
      "15333  Velilla de San Antonio, Zona de  Velilla de San Antonio    NaN   \n",
      "15334                              NaN          Madrid Capital    NaN   \n",
      "\n",
      "              level7               level8              upperLevel  countryId  \\\n",
      "0            Perlita                  NaN                 Perlita          0   \n",
      "1             Centro                  NaN                  Centro          0   \n",
      "2           Sector B                  NaN                Sector B          0   \n",
      "3             Centro                  NaN                  Centro          0   \n",
      "4             Centro                  NaN                  Centro          0   \n",
      "...              ...                  ...                     ...        ...   \n",
      "15330         Tetuán           Berruguete              Berruguete          0   \n",
      "15331            NaN                  NaN  Velilla de San Antonio          0   \n",
      "15332  Casco Antiguo                  NaN           Casco Antiguo          0   \n",
      "15333            NaN                  NaN  Velilla de San Antonio          0   \n",
      "15334         Tetuán  Castillejos - Cuzco     Castillejos - Cuzco          0   \n",
      "\n",
      "       level1Id  level2Id  level3Id  level4Id  level5Id  level6Id  level7Id  \\\n",
      "0             0         0         0         0         0         0         0   \n",
      "1             0         0         0         0         0         0         0   \n",
      "2             0         0         0         0         0         0         0   \n",
      "3             0         0         0         0         0         0         0   \n",
      "4             0         0         0         0         0         0         0   \n",
      "...         ...       ...       ...       ...       ...       ...       ...   \n",
      "15330         0         0         0         0         0         0         0   \n",
      "15331         0         0         0         0         0         0         0   \n",
      "15332         0         0         0         0         0         0         0   \n",
      "15333         0         0         0         0         0         0         0   \n",
      "15334         0         0         0         0         0         0         0   \n",
      "\n",
      "       level8Id  accuracy          latitude          longitude  zipCode  \\\n",
      "0             0         0  40,2948276786438  -3,44402412135624      NaN   \n",
      "1             0         1          40,28674           -3,79351      NaN   \n",
      "2             0         0  40,4115646786438  -3,90662252135624      NaN   \n",
      "3             0         0  40,2853785786438  -3,79508142135624      NaN   \n",
      "4             0         0  40,2998774864376  -3,45226301356237      NaN   \n",
      "...         ...       ...               ...                ...      ...   \n",
      "15330         0         0          40,45416           -3,70286      NaN   \n",
      "15331         0         0          40,36652           -3,48951      NaN   \n",
      "15332         0         0          40,57444           -3,92124      NaN   \n",
      "15333         0         0          40,36967           -3,48105      NaN   \n",
      "15334         0         0          40,45773           -3,69068      NaN   \n",
      "\n",
      "       customZone  \n",
      "0             NaN  \n",
      "1             NaN  \n",
      "2             NaN  \n",
      "3             NaN  \n",
      "4             NaN  \n",
      "...           ...  \n",
      "15330         NaN  \n",
      "15331         NaN  \n",
      "15332         NaN  \n",
      "15333         NaN  \n",
      "15334         NaN  \n",
      "\n",
      "[15335 rows x 37 columns]\n"
     ]
    }
   ],
   "source": [
    "import pandas as pd\n",
    "\n",
    "# this CSV file contains semicolons instead of comas as separator\n",
    "ds = pd.read_csv('assets/real_estate.csv', sep=';')\n",
    "pd.set_option('display.max_columns', None)\n",
    "print(ds)"
   ]
  },
  {
   "attachments": {},
   "cell_type": "markdown",
   "id": "latin-guest",
   "metadata": {},
   "source": [
    "#### Exercise 01. Which is the most expensive house in the dataset? (★☆☆)\n",
    "\n",
    "Print the address and the price of the selected house. For example:\n",
    "\n",
    "`The house with address General Street Nº5 is the most expensive and its price is 5000000 USD`"
   ]
  },
  {
   "cell_type": "code",
   "execution_count": 25,
   "id": "developing-optimum",
   "metadata": {},
   "outputs": [
    {
     "name": "stdout",
     "output_type": "stream",
     "text": [
      "       Unnamed: 0  id_realEstates  isNew             realEstate_name  \\\n",
      "13110       13111       132042636  False  engel volkers torrelodones   \n",
      "\n",
      "       phone_realEstate                                       url_inmueble  \\\n",
      "13110       911798512.0  https://www.fotocasa.es/es/comprar/vivienda/vi...   \n",
      "\n",
      "       rooms  bathrooms  surface    price                  date  \\\n",
      "13110   19.0        NaN      NaN  8500000  2019-12-19T12:29:00Z   \n",
      "\n",
      "                                             description      address country  \\\n",
      "13110  El Palacio de El Enebral, la finca fue propied...  El Escorial  España   \n",
      "\n",
      "       level1  level2         level3                level4       level5  \\\n",
      "13110  Madrid  Madrid  Zona Noroeste  El Escorial, Zona de  El Escorial   \n",
      "\n",
      "      level6              level7 level8          upperLevel  countryId  \\\n",
      "13110    NaN  Centro - Manquilla    NaN  Centro - Manquilla          0   \n",
      "\n",
      "       level1Id  level2Id  level3Id  level4Id  level5Id  level6Id  level7Id  \\\n",
      "13110         0         0         0         0         0         0         0   \n",
      "\n",
      "       level8Id  accuracy          latitude          longitude  zipCode  \\\n",
      "13110         0         0  40,5830801751782  -4,12951942848611      NaN   \n",
      "\n",
      "       customZone  \n",
      "13110         NaN  \n",
      "la casa en  13110    El Escorial\n",
      "Name: address, dtype: object es la mas costosa con un precio de  13110    8500000\n",
      "Name: price, dtype: int64\n"
     ]
    }
   ],
   "source": [
    "import pandas as pd\n",
    "ds = pd.read_csv('assets/real_estate.csv', sep=';')\n",
    "\n",
    "costosa =(ds.loc[ds['price']==ds['price'].max()])\n",
    "\n",
    "print('la casa en ',costosa['address'],'es la mas costosa con un precio de ',costosa['price'])"
   ]
  },
  {
   "attachments": {},
   "cell_type": "markdown",
   "id": "lesser-cosmetic",
   "metadata": {},
   "source": [
    "#### Exercise 02. Which is cheapest house in the dataset? (★☆☆)\n",
    "\n",
    "Print the address and the price of the selected house. For example:\n",
    "\n",
    "`The house with address Concrete Street Nº1 is the cheapest and its price is 12000 USD`"
   ]
  },
  {
   "cell_type": "code",
   "execution_count": 5,
   "id": "lovely-oasis",
   "metadata": {},
   "outputs": [
    {
     "name": "stdout",
     "output_type": "stream",
     "text": [
      "la casa en  7491    Berlin, Coslada\n",
      "Name: address, dtype: object es la mas barata con un precio de  7491    600\n",
      "Name: price, dtype: int64\n"
     ]
    }
   ],
   "source": [
    "import pandas as pd\n",
    "ds = pd.read_csv('assets/real_estate.csv', sep=';')\n",
    "\n",
    "filas = ds.loc[ds['price'] != 0]\n",
    "\n",
    "baratas = filas.loc[filas['price']==filas['price'].min()]\n",
    "\n",
    "print('la casa en ',baratas['address'],'es la mas barata con un precio de ',baratas['price'])"
   ]
  },
  {
   "attachments": {},
   "cell_type": "markdown",
   "id": "compliant-fellowship",
   "metadata": {},
   "source": [
    "#### Exercise 03. Which is the biggest and the smallest house in the dataset? (★☆☆)\n",
    "\n",
    "Print both the address and the surface of the selected houses. For example:\n",
    "\n",
    "`The bigger house is located on Yukka Street Nº10 and its surface is 5000 meters`\n",
    "\n",
    "`The smaller house is located on County Road 1 N and its surface is 200 meters`"
   ]
  },
  {
   "cell_type": "code",
   "execution_count": 7,
   "id": "every-tiffany",
   "metadata": {},
   "outputs": [
    {
     "name": "stdout",
     "output_type": "stream",
     "text": [
      "La casa mas grande esta en  6794    Sevilla la Nueva\n",
      "Name: address, dtype: object con una superficie de  6794    249000.0\n",
      "Name: surface, dtype: float64\n",
      "La casa mas pequeña se encuentra en  498    Calle Amparo,  Madrid Capital\n",
      "Name: address, dtype: object con una superficie de  498    15.0\n",
      "Name: surface, dtype: float64\n"
     ]
    }
   ],
   "source": [
    "import pandas as pd\n",
    "ds = pd.read_csv('assets/real_estate.csv', sep=';')\n",
    "grande=  ds.loc[ds['surface']==ds['surface'].max()]\n",
    "\n",
    "filas = ds.loc[ds['surface'] != 0]\n",
    "\n",
    "pequeña = filas.loc[filas['surface']==filas['surface'].min()]\n",
    "\n",
    "print('La casa mas grande esta en ',grande['address'],'con una superficie de ',grande['surface'])\n",
    "print('La casa mas pequeña se encuentra en ',pequeña['address'],'con una superficie de ',pequeña['surface'])"
   ]
  },
  {
   "attachments": {},
   "cell_type": "markdown",
   "id": "danish-spirit",
   "metadata": {},
   "source": [
    "#### Exercise 04. How many populations (level5 column) the dataset contains? (★☆☆)\n",
    "\n",
    "Print the name of the populations with comma as separator. For example:\n",
    "\n",
    "`> print(populations)`\n",
    "\n",
    "`population1, population2, population3,...`"
   ]
  },
  {
   "cell_type": "code",
   "execution_count": 6,
   "id": "exciting-accreditation",
   "metadata": {},
   "outputs": [
    {
     "name": "stdout",
     "output_type": "stream",
     "text": [
      "Arganda del Rey , Fuenlabrada , Boadilla del Monte , Las Rozas de Madrid ,  Madrid Capital , Villaviciosa de Odón , Pinto , Valdemoro , Navalcarnero , Pozuelo de Alarcón , Torrejón de Ardoz , Navalagamella , San Sebastián de los Reyes , Rivas-vaciamadrid , Alpedrete , Móstoles , San Fernando de Henares , Coslada , Becerril de la Sierra , Alcalá de Henares , Chinchón , Parla , Alcorcón , El Escorial , Leganés , Pedrezuela , Majadahonda , Villanueva de la Cañada , Villanueva del Pardillo , Torrelodones , Moralzarzal , Mejorada del Campo , Aranjuez , Corpa , Getafe , Velilla de San Antonio , Sevilla la Nueva , San Martín de la Vega , Villalbilla , Collado Villalba , Alcobendas , El Molar (Madrid) , Moraleja de Enmedio , Algete , Campo Real , Torrejón de la Calzada , Colmenar Viejo , Valdemorillo , Fuente El Saz de Jarama , Tres Cantos , Arroyomolinos (Madrid) , Griñón , Paracuellos de Jarama , Guadarrama , Titulcia , Galapagar , Collado Mediano , Los Molinos , San Lorenzo de El Escorial , Loeches , San Martín de Valdeiglesias , Navas del Rey , Bustarviejo , Manzanares El Real , Carabaña , Casarrubuelos , Cercedilla , Fresnedillas de la Oliva , Valdemaqueda , Robledo de Chavela , Miraflores de la Sierra , Humanes de Madrid , Valdetorres de Jarama , San Agustín del Guadalix , Ciempozuelos , Camarma de Esteruelas , Torres de la Alameda , Talamanca de Jarama , El Atazar , Hoyo de Manzanares , El Boalo - Cerceda – Mataelpino , El Álamo , Valdilecha , Valdeolmos-Alalpardo , Guadalix de la Sierra , Belmonte de Tajo , El Vellón , Brunete , Redueña , Morata de Tajuña , Tielmes , Gargantilla del Lozoya , Meco , Venturada , Quijorna , Cenicientos , Torrejón de Velasco , Navacerrada , Santa María de la Alameda , Orusco de Tajuña , Daganzo de Arriba , Villamanta , Anchuelo , Valdaracete , Ajalvir , Los Santos de la Humosa , Villamanrique de Tajo , Colmenar de Oreja , Villa del Prado , Fuentidueña de Tajo , Colmenar del Arroyo , Valdelaguna , Cubas de la Sagra , Valdeavero , Aldea del Fresno , Ribatejada , Torrelaguna , Batres , Pezuela de las Torres , Colmenarejo , Serranillos del Valle , Cobeña , Soto del Real , El Berrueco , Villanueva de Perales , Fresno de Torote - Serracines , Pozuelo del Rey , Pelayos de la Presa , La Cabrera , Nuevo Baztán , Perales de Tajuña , Villaconejos , Villarejo de Salvanés , Cadalso de los Vidrios , Santorcaz , Madarcos , Garganta de los Montes , Puentes Viejas , Torremocha de Jarama , Valdemanco , Braojos , Lozoyuela-navas-sieteiglesias , Piñuécar-gandullas , Valdepiélagos , Valverde de Alcalá , Villar del Olmo , Villamantilla , Horcajo de la Sierra , Gascones , Zarzalejo , Villavieja del Lozoya , Brea de Tajo , Estremera , Chapinería , Navarredonda , Patones , Ambite , Navalafuente , Lozoya , Canencia , Cabanillas de la Sierra , Buitrago del Lozoya , Fresno de Torote , Robregordo , Pinilla del Valle , Rascafría , La Hiruela , Montejo de la Sierra\n"
     ]
    }
   ],
   "source": [
    "import pandas as pd\n",
    "ds = pd.read_csv('assets/real_estate.csv', sep=';')\n",
    "pobl = ds[\"level5\"].unique()\n",
    "comas = \" , \".join(pobl)\n",
    "print(comas)"
   ]
  },
  {
   "attachments": {},
   "cell_type": "markdown",
   "id": "crazy-blame",
   "metadata": {},
   "source": [
    "#### Exercise 05. Does the dataset contain NAs? (★☆☆)\n",
    "\n",
    "Print a boolean value (`true` or `fase`) followed by the rows/cols that contains NAs."
   ]
  },
  {
   "cell_type": "code",
   "execution_count": null,
   "id": "transparent-poetry",
   "metadata": {},
   "outputs": [],
   "source": [
    "# TODO"
   ]
  },
  {
   "attachments": {},
   "cell_type": "markdown",
   "id": "italic-hydrogen",
   "metadata": {},
   "source": [
    "#### Exercise 06. Delete the NAs of the dataset, if applicable (★★☆)\n",
    "\n",
    "Print a comparison between the dimensions of the original DataFrame versus the DataFrame after the deletions"
   ]
  },
  {
   "cell_type": "code",
   "execution_count": null,
   "id": "administrative-roads",
   "metadata": {},
   "outputs": [],
   "source": [
    "# TODO"
   ]
  },
  {
   "attachments": {},
   "cell_type": "markdown",
   "id": "middle-china",
   "metadata": {},
   "source": [
    "#### Exercise 07. Which is the mean of prices in the population (level5 column) of \"Arroyomolinos (Madrid)\"? (★★☆)\n",
    "\n",
    "Print the obtained value"
   ]
  },
  {
   "cell_type": "code",
   "execution_count": 9,
   "id": "nuclear-belief",
   "metadata": {},
   "outputs": [
    {
     "name": "stdout",
     "output_type": "stream",
     "text": [
      "294541.59854014596\n"
     ]
    }
   ],
   "source": [
    "import pandas as pd\n",
    "ds = pd.read_csv('assets/real_estate.csv', sep=';')\n",
    "\n",
    "ds = ds.loc[ds['level5'] == 'Arroyomolinos (Madrid)']\n",
    "\n",
    "print(ds['price'].mean())"
   ]
  },
  {
   "attachments": {},
   "cell_type": "markdown",
   "id": "concerned-radical",
   "metadata": {},
   "source": [
    "#### Exercise 08. Plot the histogram of prices for the population (level5 column) of \"Arroyomolinos (Madrid)\" and explain what you observe (★★☆)\n",
    "\n",
    "Print the histogram of the prices and write in the Markdown cell a brief analysis about the plot."
   ]
  },
  {
   "cell_type": "code",
   "execution_count": 7,
   "id": "sudden-message",
   "metadata": {},
   "outputs": [
    {
     "data": {
      "text/plain": [
       "<function matplotlib.pyplot.show(close=None, block=None)>"
      ]
     },
     "execution_count": 7,
     "metadata": {},
     "output_type": "execute_result"
    },
    {
     "data": {
      "image/png": "[encoded data removed]",
      "text/plain": [
       "<Figure size 1000x500 with 1 Axes>"
      ]
     },
     "metadata": {},
     "output_type": "display_data"
    }
   ],
   "source": [
    "import pandas as pd\n",
    "import matplotlib.pyplot as plt\n",
    "ds = pd.read_csv('assets/real_estate.csv', sep=';')\n",
    "ds = ds.loc[ds['level5'] == 'Arroyomolinos (Madrid)']\n",
    "plt.figure(figsize=(10,5))\n",
    "ds['price'].hist(bins=30)\n",
    "plt.title('Precios(Arroyomolinos)')\n",
    "plt.show\n"
   ]
  },
  {
   "attachments": {},
   "cell_type": "markdown",
   "id": "impressed-combination",
   "metadata": {},
   "source": [
    "como podemos observar en el histograma la mayoria de los apartamentos en esta zona de arroyomolinos va de 200,000 a 400,00 dolares dejando muy pocos superiores a los 500,000 o inferiores a los 100,000 \n"
   ]
  },
  {
   "attachments": {},
   "cell_type": "markdown",
   "id": "actual-edinburgh",
   "metadata": {},
   "source": [
    "#### Exercise 09. Is the average of \"Valdemorillo\" and \"Galapagar\" prices the same? (★★☆)\n",
    "\n",
    "Print the both average prices and then write a conclusion about them"
   ]
  },
  {
   "cell_type": "code",
   "execution_count": 12,
   "id": "numeric-commerce",
   "metadata": {},
   "outputs": [
    {
     "name": "stdout",
     "output_type": "stream",
     "text": [
      "el promedio de precios en valdemorillo es  363860.2931034483\n",
      "el promedio en galapagar es  360063.20238095237\n"
     ]
    }
   ],
   "source": [
    "import pandas as pd\n",
    "import matplotlib.pyplot as plt\n",
    "ds = pd.read_csv('assets/real_estate.csv', sep=';')\n",
    "valdemorillo =  ds.loc[ds['level5'] == 'Valdemorillo']\n",
    "galapagar = ds.loc[ds['level5'] == 'Galapagar']\n",
    "\n",
    "promedio_val = valdemorillo['price'].mean()\n",
    "promedio_gal = galapagar['price'].mean()\n",
    "\n",
    "print('el promedio de precios en valdemorillo es ',promedio_val)\n",
    "\n",
    "print('el promedio en galapagar es ',promedio_gal)"
   ]
  },
  {
   "attachments": {},
   "cell_type": "markdown",
   "id": "lonely-article",
   "metadata": {},
   "source": [
    "#### Exercise 10. Is the average of \"Valdemorillo\" and \"Galapagar\" price per square meter (price/m2) the same? (★★☆)\n",
    "\n",
    "Print the both average prices and then write a conclusion about\n",
    "\n",
    "Hint: Create a new column called `pps` (price per square) and then analyse the values"
   ]
  },
  {
   "cell_type": "code",
   "execution_count": 18,
   "id": "hourly-globe",
   "metadata": {},
   "outputs": [
    {
     "name": "stdout",
     "output_type": "stream",
     "text": [
      "el promedio de precio por metro cuadrado en valdemorillo es de  1317.9502109024986\n",
      "el promedio de precio por metro cuadrado en galapagar es de  1606.3240303094024\n"
     ]
    }
   ],
   "source": [
    "import pandas as pd\n",
    "import matplotlib.pyplot as plt\n",
    "ds = pd.read_csv('assets/real_estate.csv', sep=';')\n",
    "\n",
    "\n",
    "ds['pps']= ds['price']/ds['surface']\n",
    "valdemorillo =  ds.loc[ds['level5'] == 'Valdemorillo']\n",
    "galapagar = ds.loc[ds['level5'] == 'Galapagar']\n",
    "promedio_val = valdemorillo['pps'].mean()\n",
    "promedio_gal = galapagar['pps'].mean()\n",
    "print('el promedio de precio por metro cuadrado en valdemorillo es de ',promedio_val)\n",
    "\n",
    "print('el promedio de precio por metro cuadrado en galapagar es de ', promedio_gal)\n",
    "\n",
    "print('en conclucion podemos ver que en valdemorillo el precio promedio por casa en mas alto que en galapagar no obstante el precio por metro cuadrado es mayor en este ultimo es decir que en valdemorillo se consiguen casas mas grandes un poco mas baratas ')"
   ]
  },
  {
   "attachments": {},
   "cell_type": "markdown",
   "id": "pleasant-invite",
   "metadata": {},
   "source": [
    "#### Exercise 11. Analyse the relation between the surface and the price of the houses (★★☆)\n",
    "\n",
    "Hint: You can make a `scatter plot` and then write a conclusion about it"
   ]
  },
  {
   "cell_type": "code",
   "execution_count": 20,
   "id": "common-drilling",
   "metadata": {},
   "outputs": [
    {
     "data": {
      "image/png": "[encoded data removed]",
      "text/plain": [
       "<Figure size 640x480 with 1 Axes>"
      ]
     },
     "metadata": {},
     "output_type": "display_data"
    }
   ],
   "source": [
    "import pandas as pd\n",
    "import matplotlib.pyplot as plt\n",
    "ds = pd.read_csv('assets/real_estate.csv', sep=';')\n",
    "\n",
    "\n",
    "\n",
    "plt.scatter(ds['price'],ds['surface'])\n",
    "\n",
    "plt.ylabel('superficie')\n",
    "plt.xlabel('precio')\n",
    "plt.title('Relacion entre superficie y precio de las casas ')\n",
    "\n",
    "plt.show()"
   ]
  },
  {
   "attachments": {},
   "cell_type": "markdown",
   "id": "ahead-liquid",
   "metadata": {},
   "source": [
    "**TODO: Markdown**. To write here, double click to this cell and just remove this content and place the text you want to write. Then, execute the cell."
   ]
  },
  {
   "attachments": {},
   "cell_type": "markdown",
   "id": "coordinate-sunrise",
   "metadata": {},
   "source": [
    "#### Exercise 12. How many real estate agencies the dataset contains? (★★☆)\n",
    "\n",
    "Print the obtained value"
   ]
  },
  {
   "cell_type": "code",
   "execution_count": 21,
   "id": "valid-honolulu",
   "metadata": {},
   "outputs": [
    {
     "name": "stdout",
     "output_type": "stream",
     "text": [
      "1821\n"
     ]
    }
   ],
   "source": [
    "import pandas as pd\n",
    "ds = pd.read_csv('assets/real_estate.csv', sep=';')\n",
    "n= ds.groupby('realEstate_name').sum()\n",
    "\n",
    "cantidad = len(ds.groupby('realEstate_name').sum())\n",
    "\n",
    "print(cantidad)"
   ]
  },
  {
   "attachments": {},
   "cell_type": "markdown",
   "id": "binding-ebony",
   "metadata": {},
   "source": [
    "#### Exercise 13. Which is the population (level5 column) that contains the most houses? (★★☆)\n",
    "\n",
    "Print both the population and the number of houses"
   ]
  },
  {
   "cell_type": "code",
   "execution_count": 25,
   "id": "static-perry",
   "metadata": {},
   "outputs": [
    {
     "name": "stdout",
     "output_type": "stream",
     "text": [
      "la agencia que mas casas tiene es engel volkers madrid que tiene 470 casas \n"
     ]
    },
    {
     "name": "stderr",
     "output_type": "stream",
     "text": [
      "/tmp/ipykernel_629/2976688381.py:7: FutureWarning: Series.__getitem__ treating keys as positions is deprecated. In a future version, integer keys will always be treated as labels (consistent with DataFrame behavior). To access a value by position, use `ser.iloc[pos]`\n",
      "  numero_casas = agencia[0]\n"
     ]
    }
   ],
   "source": [
    "import pandas as pd\n",
    "ds = pd.read_csv('assets/real_estate.csv', sep=';')\n",
    "agencia = ds['realEstate_name'].value_counts()\n",
    "\n",
    "max_agencia = agencia.index[0]\n",
    "\n",
    "numero_casas = agencia[0]\n",
    "print(f'la agencia que mas casas tiene es {max_agencia} que tiene {numero_casas} casas ')"
   ]
  },
  {
   "attachments": {},
   "cell_type": "markdown",
   "id": "entire-classification",
   "metadata": {},
   "source": [
    "#### Exercise 14. Now let's work with the \"south belt\" of madrid. Make a subset of the original DataFrame that contains the following populations (level5 column): \"Fuenlabrada\",\"Leganés\",\"Getafe\",\"Alcorcón\" (★★☆)\n",
    "\n",
    "Hint: Filter the original DataFrame using the column `level5` and the function `isin`"
   ]
  },
  {
   "cell_type": "code",
   "execution_count": 41,
   "id": "binary-input",
   "metadata": {},
   "outputs": [
    {
     "name": "stdout",
     "output_type": "stream",
     "text": [
      "       Unnamed: 0  id_realEstates  isNew  \\\n",
      "1               2       153867863  False   \n",
      "3               4       152776331  False   \n",
      "85             86       153152077  False   \n",
      "94             95       153995577  False   \n",
      "109           110       153586414  False   \n",
      "...           ...             ...    ...   \n",
      "15275       15276       153903887  False   \n",
      "15291       15292       151697757  False   \n",
      "15305       15306       153902389  False   \n",
      "15322       15323       153871864  False   \n",
      "15325       15326       153901467  False   \n",
      "\n",
      "                                 realEstate_name  phone_realEstate  \\\n",
      "1              tecnocasa fuenlabrada ferrocarril       916358736.0   \n",
      "3              tecnocasa fuenlabrada ferrocarril       916358736.0   \n",
      "85                       sinergical inmobiliaria               NaN   \n",
      "94                               viviendas365com       911226014.0   \n",
      "109              area uno asesores inmobiliarios       912664081.0   \n",
      "...                                          ...               ...   \n",
      "15275  aliseda servicios de gestion inmobiliaria       911368198.0   \n",
      "15291                                    unipiso       912788631.0   \n",
      "15305                             jadein ferrero       914871639.0   \n",
      "15322                          gestion comercial       911220662.0   \n",
      "15325                              montehogar 68       911790675.0   \n",
      "\n",
      "                                            url_inmueble  rooms  bathrooms  \\\n",
      "1      https://www.fotocasa.es/es/comprar/vivienda/ma...    3.0        1.0   \n",
      "3      https://www.fotocasa.es/es/comprar/vivienda/ma...    3.0        1.0   \n",
      "85     https://www.fotocasa.es/es/comprar/vivienda/le...    1.0        1.0   \n",
      "94     https://www.fotocasa.es/es/comprar/vivienda/le...    3.0        2.0   \n",
      "109    https://www.fotocasa.es/es/comprar/vivienda/ma...    3.0        3.0   \n",
      "...                                                  ...    ...        ...   \n",
      "15275  https://www.fotocasa.es/es/comprar/vivienda/al...    3.0        1.0   \n",
      "15291  https://www.fotocasa.es/es/comprar/vivienda/al...    3.0        2.0   \n",
      "15305  https://www.fotocasa.es/es/comprar/vivienda/ma...    3.0        2.0   \n",
      "15322  https://www.fotocasa.es/es/comprar/vivienda/ma...    3.0        1.0   \n",
      "15325  https://www.fotocasa.es/es/comprar/vivienda/ma...    2.0        2.0   \n",
      "\n",
      "       surface   price  ... level4Id level5Id level6Id level7Id level8Id  \\\n",
      "1          NaN   89000  ...        0        0        0        0        0   \n",
      "3         86.0   89000  ...        0        0        0        0        0   \n",
      "85        50.0  107000  ...        0        0        0        0        0   \n",
      "94       120.0  320000  ...        0        0        0        0        0   \n",
      "109      142.0  425000  ...        0        0        0        0        0   \n",
      "...        ...     ...  ...      ...      ...      ...      ...      ...   \n",
      "15275     78.0  138000  ...        0        0        0        0        0   \n",
      "15291    110.0  279000  ...        0        0        0        0        0   \n",
      "15305     85.0  170000  ...        0        0        0        0        0   \n",
      "15322     91.0  112000  ...        0        0        0        0        0   \n",
      "15325     99.0  215000  ...        0        0        0        0        0   \n",
      "\n",
      "      accuracy          latitude          longitude zipCode customZone  \n",
      "1            1          40,28674           -3,79351     NaN        NaN  \n",
      "3            0  40,2853785786438  -3,79508142135624     NaN        NaN  \n",
      "85           1          40,35059           -3,82693     NaN        NaN  \n",
      "94           0          40,31933           -3,77574     NaN        NaN  \n",
      "109          0        40,3313411         -3,8313868     NaN        NaN  \n",
      "...        ...               ...                ...     ...        ...  \n",
      "15275        1          40,31381           -3,83733     NaN        NaN  \n",
      "15291        0        40,3259051           -3,76318     NaN        NaN  \n",
      "15305        0        40,2882193         -3,8098617     NaN        NaN  \n",
      "15322        0          40,28282           -3,78892     NaN        NaN  \n",
      "15325        1          40,28062           -3,79869     NaN        NaN  \n",
      "\n",
      "[907 rows x 37 columns]\n"
     ]
    }
   ],
   "source": [
    "import pandas as pd\n",
    "import matplotlib.pyplot as plt\n",
    "ds = pd.read_csv('assets/real_estate.csv', sep=';')\n",
    "zona = [\"Fuenlabrada\",\"Leganés\",\"Getafe\",\"Alcorcón\"]\n",
    "subset = ds[ds['level5'].isin(zona)]\n",
    "\n",
    "print(subset)\n"
   ]
  },
  {
   "attachments": {},
   "cell_type": "markdown",
   "id": "severe-fisher",
   "metadata": {},
   "source": [
    "#### Exercise 15. Make a bar plot of the median of the prices and explain what you observe (you must use the subset obtained in the question 14) (★★★)\n",
    "\n",
    "Print the bar of the median of the prices and write in the Markdown cell a brief analysis about the plot"
   ]
  },
  {
   "cell_type": "code",
   "execution_count": 3,
   "id": "lyric-bunch",
   "metadata": {},
   "outputs": [
    {
     "data": {
      "text/plain": [
       "<BarContainer object of 4 artists>"
      ]
     },
     "execution_count": 3,
     "metadata": {},
     "output_type": "execute_result"
    },
    {
     "data": {
      "image/png": "[encoded data removed]",
      "text/plain": [
       "<Figure size 1000x2000 with 1 Axes>"
      ]
     },
     "metadata": {},
     "output_type": "display_data"
    }
   ],
   "source": [
    "import pandas as pd\n",
    "import matplotlib.pyplot as plt\n",
    "ds = pd.read_csv('assets/real_estate.csv', sep=';')\n",
    "zona = [\"Fuenlabrada\",\"Leganés\",\"Getafe\",\"Alcorcón\"]\n",
    "subset = ds[ds['level5'].isin(zona)]\n",
    "plt.figure(figsize = (10,20))\n",
    "median = subset.groupby('level5')['price'].median()\n",
    "plt.bar(median.index,median.values)\n",
    "\n"
   ]
  },
  {
   "attachments": {},
   "cell_type": "markdown",
   "id": "sublime-newspaper",
   "metadata": {},
   "source": [
    "**TODO: Markdown**. To write here, double click to this cell and just remove this content and place the text you want to write. Then, execute the cell."
   ]
  },
  {
   "attachments": {},
   "cell_type": "markdown",
   "id": "speaking-diamond",
   "metadata": {},
   "source": [
    "#### Exercise 16. Calculate the sample mean and variance of the variables: price, rooms, surface area and bathrooms (you must use the subset obtained in the question 14) (★★★)\n",
    "\n",
    "Print both values for each variable"
   ]
  },
  {
   "cell_type": "code",
   "execution_count": 55,
   "id": "random-feeling",
   "metadata": {},
   "outputs": [
    {
     "name": "stdout",
     "output_type": "stream",
     "text": [
      "el promedio de precio es 223094.48070562293 y su varianza es 14921367508.04902\n",
      "el promedio de cuartos es 3.0177383592017737 y su varianza es 0.7188858892927542\n",
      "el promedio de la superficie es de 111.75222363405337 y su varianza es de 4263.051760316337\n",
      "el promedio de baños es de 1.633221850613155 y su varianza es de 0.5717968625577321\n"
     ]
    }
   ],
   "source": [
    "import pandas as pd\n",
    "import matplotlib.pyplot as plt\n",
    "ds = pd.read_csv('assets/real_estate.csv', sep=';')\n",
    "zona = [\"Fuenlabrada\",\"Leganés\",\"Getafe\",\"Alcorcón\"]\n",
    "subset = ds[ds['level5'].isin(zona)]\n",
    "\n",
    "promedio_precio = subset['price'].mean()\n",
    "varianza_precio = subset['price'].var()\n",
    "\n",
    "promedio_cuartos =  subset['rooms'].mean()\n",
    "varianza_cuartos = subset['rooms'].var()\n",
    "\n",
    "promedio_superficie = subset['surface'].mean()\n",
    "varianza_superficie = subset['surface'].var()\n",
    "\n",
    "promedio_baños = subset['bathrooms'].mean()\n",
    "varianza_baños = subset['bathrooms'].var()\n",
    "\n",
    "print(f'el promedio de precio es {promedio_precio} y su varianza es {varianza_precio}')\n",
    "print(f'el promedio de cuartos es {promedio_cuartos} y su varianza es {varianza_cuartos}')\n",
    "print(f'el promedio de la superficie es de {promedio_superficie} y su varianza es de {varianza_superficie}')\n",
    "print(f'el promedio de baños es de {promedio_baños} y su varianza es de {varianza_baños}')"
   ]
  },
  {
   "attachments": {},
   "cell_type": "markdown",
   "id": "revolutionary-matrix",
   "metadata": {},
   "source": [
    "#### Exercise 17. What is the most expensive house of each population? You must use the subset obtained in the question 14 (★★☆)\n",
    "\n",
    "Print both the address and the price of the selected house of each population. You can print a DataFrame or a single line for each population"
   ]
  },
  {
   "cell_type": "code",
   "execution_count": 62,
   "id": "fifteen-browse",
   "metadata": {},
   "outputs": [
    {
     "name": "stdout",
     "output_type": "stream",
     "text": [
      "en fuenlabrada la casa mas cara se encunetra en 11561    Calle de Paulo Freire, 5, Fuenlabrada\n",
      "Name: address, dtype: object y cuesta 11561    490000\n",
      "Name: price, dtype: int64\n",
      "en leganes la casa mas cara se encunetra en 10412    Avenida Reina Sofía, Leganés\n",
      "Name: address, dtype: object y cuesta 10412    650000\n",
      "Name: price, dtype: int64\n",
      "en getafe la casa mas cara se encunetra en 2881    Getafe\n",
      "Name: address, dtype: object y cuesta 2881    1050000\n",
      "Name: price, dtype: int64\n",
      "en alcorcon la casa mas cara se encunetra en 5585    Alcorcón\n",
      "Name: address, dtype: object y cuesta 5585    950000\n",
      "Name: price, dtype: int64\n"
     ]
    }
   ],
   "source": [
    "import pandas as pd\n",
    "import matplotlib.pyplot as plt\n",
    "ds = pd.read_csv('assets/real_estate.csv', sep=';')\n",
    "zona = [\"Fuenlabrada\",\"Leganés\",\"Getafe\",\"Alcorcón\"]\n",
    "subset = ds[ds['level5'].isin(zona)]\n",
    "\n",
    "Fuenlabrada = subset.loc[subset['level5']== 'Fuenlabrada']\n",
    "fuen_max = Fuenlabrada.loc[Fuenlabrada['price'] == Fuenlabrada['price'].max() ]\n",
    "\n",
    "print(f'en fuenlabrada la casa mas cara se encunetra en', fuen_max['address'] ,'y cuesta', fuen_max['price'])\n",
    "\n",
    "leganes = subset.loc[subset['level5']== 'Leganés']\n",
    "leg_max = leganes.loc[leganes['price'] == leganes['price'].max() ]\n",
    "\n",
    "print(f'en leganes la casa mas cara se encunetra en', leg_max['address'] ,'y cuesta', leg_max['price'])\n",
    "\n",
    "getafe = subset.loc[subset['level5']== 'Getafe']\n",
    "get_max = getafe.loc[getafe['price'] == getafe['price'].max() ]\n",
    "\n",
    "print(f'en getafe la casa mas cara se encunetra en', get_max['address'] ,'y cuesta', get_max['price'])\n",
    "\n",
    "alcorcon = subset.loc[subset['level5']== 'Alcorcón']\n",
    "alc_max = alcorcon.loc[alcorcon['price'] == alcorcon['price'].max() ]\n",
    "print(f'en alcorcon la casa mas cara se encunetra en', alc_max['address'] ,'y cuesta', alc_max['price'])\n",
    "\n",
    "\n",
    "\n"
   ]
  },
  {
   "attachments": {},
   "cell_type": "markdown",
   "id": "activated-knight",
   "metadata": {},
   "source": [
    "#### Exercise 18. Normalize the variable of prices for each population and plot the 4 histograms in the same plot (you must use the subset obtained in the question 14) (★★★)\n",
    "\n",
    "For the normalization method you can use the one you consider to, there is not a single correct answer to this question. Print the plot and write in the Markdown cell a brief analysis about the plot\n",
    "\n",
    "Hint: You can help yourself reviewing the multihist demo of Matplotlib"
   ]
  },
  {
   "cell_type": "code",
   "execution_count": null,
   "id": "civic-meditation",
   "metadata": {},
   "outputs": [],
   "source": [
    "# TODO"
   ]
  },
  {
   "attachments": {},
   "cell_type": "markdown",
   "id": "precise-heavy",
   "metadata": {},
   "source": [
    "**TODO: Markdown**. To write here, double click to this cell and just remove this content and place the text you want to write. Then, execute the cell."
   ]
  },
  {
   "attachments": {},
   "cell_type": "markdown",
   "id": "patent-jonathan",
   "metadata": {},
   "source": [
    "#### Exercise 19. What can you say about the price per square meter (price/m2) between the towns of \"Getafe\" and \"Alcorcón\"? You must use the subset obtained in the question 14 (★★☆)\n",
    "\n",
    "Hint: Create a new column called `pps` (price per square) and then analyse the values"
   ]
  },
  {
   "cell_type": "code",
   "execution_count": 5,
   "id": "initial-liverpool",
   "metadata": {},
   "outputs": [
    {
     "name": "stderr",
     "output_type": "stream",
     "text": [
      "/tmp/ipykernel_716/3363074160.py:6: SettingWithCopyWarning: \n",
      "A value is trying to be set on a copy of a slice from a DataFrame.\n",
      "Try using .loc[row_indexer,col_indexer] = value instead\n",
      "\n",
      "See the caveats in the documentation: https://pandas.pydata.org/pandas-docs/stable/user_guide/indexing.html#returning-a-view-versus-a-copy\n",
      "  subset['pps']= subset['price']/subset['surface']\n"
     ]
    },
    {
     "name": "stdout",
     "output_type": "stream",
     "text": [
      "2066.314949251463\n",
      "2066.314949251463\n"
     ]
    },
    {
     "data": {
      "image/png": "[encoded data removed]",
      "text/plain": [
       "<Figure size 640x480 with 1 Axes>"
      ]
     },
     "metadata": {},
     "output_type": "display_data"
    },
    {
     "name": "stdout",
     "output_type": "stream",
     "text": [
      "como podemos ver el precio por metro cuadrado promedio es bastante parecido en las dos ciudades vamos a tener precios bastante parecidos \n"
     ]
    }
   ],
   "source": [
    "import pandas as pd\n",
    "import matplotlib.pyplot as plt\n",
    "ds = pd.read_csv('assets/real_estate.csv', sep=';')\n",
    "zona = [\"Fuenlabrada\",\"Leganés\",\"Getafe\",\"Alcorcón\"]\n",
    "subset = ds[ds['level5'].isin(zona)]\n",
    "subset['pps']= subset['price']/subset['surface']\n",
    "getafe =  subset.loc[subset['level5'] == 'Getafe']\n",
    "alcorcon = subset.loc[subset['level5'] == 'Alcorcón']\n",
    "promedio_get = getafe['pps'].mean()\n",
    "promedio_alc = alcorcon['pps'].mean()\n",
    "\n",
    "print(promedio_get)\n",
    "print(promedio_get)\n",
    "\n",
    "ppm_getafe = subset[subset['level5'] == 'Getafe']['pps']  \n",
    "ppm_alcorcon = subset[subset['level5'] == 'Alcorcón']['pps'] \n",
    "\n",
    "plt.hist(ppm_alcorcon, bins=20, alpha=0.5, label='Alcorcon')\n",
    "plt.hist(ppm_getafe, bins=20, alpha=0.5, label='Getafe')\n",
    "\n",
    "plt.title('Metros cuadras de Alcorcon y Getafe')\n",
    "plt.xlabel('Precio por m2')\n",
    "plt.ylabel('Frecuencia')\n",
    "plt.legend()\n",
    "plt.show()\n",
    "\n",
    "print('como podemos ver el precio por metro cuadrado promedio es bastante parecido en las dos ciudades vamos a tener precios bastante parecidos ')"
   ]
  },
  {
   "attachments": {},
   "cell_type": "markdown",
   "id": "enhanced-moscow",
   "metadata": {},
   "source": [
    "#### Exercise 20. Make the same plot for 4 different populations (level5 column) and rearrange them on the same graph? You must use the subset obtained in the question 14 (★★☆) \n",
    "Hint: make a scatter plot of each population using subplots."
   ]
  },
  {
   "cell_type": "code",
   "execution_count": null,
   "id": "accepting-airfare",
   "metadata": {},
   "outputs": [],
   "source": [
    "# TODO"
   ]
  },
  {
   "attachments": {},
   "cell_type": "markdown",
   "id": "blocked-effects",
   "metadata": {},
   "source": [
    "#### Exercise 21. Make a plot of the coordinates (latitude and longitude columns) of the south belt of Madrid by color of each population (you must use the subset obtained in the question 14) (★★★★)\n",
    "\n",
    "Execute the following cell and then start coding in the next one. You must implement a simple code that transform the coordinates columns in a Python dictionary (add more information if needed) and then add it to the map"
   ]
  },
  {
   "cell_type": "code",
   "execution_count": null,
   "id": "headed-privacy",
   "metadata": {},
   "outputs": [],
   "source": [
    "from ipyleaflet import Map, basemaps\n",
    "\n",
    "# Map centred on (60 degrees latitude et -2.2 degrees longitude)\n",
    "# Latitude, longitude\n",
    "map = Map(center = (60, -2.2), zoom = 2, min_zoom = 1, max_zoom = 20, \n",
    "    basemap=basemaps.Stamen.Terrain)\n",
    "map"
   ]
  },
  {
   "cell_type": "code",
   "execution_count": null,
   "id": "present-mistress",
   "metadata": {},
   "outputs": [],
   "source": [
    "## HERE: plot the coordinates of the estates\n",
    "\n",
    "## PUT HERE YOUR CODE:\n"
   ]
  }
 ],
 "metadata": {
  "kernelspec": {
   "display_name": "Python 3",
   "language": "python",
   "name": "python3"
  },
  "language_info": {
   "codemirror_mode": {
    "name": "ipython",
    "version": 3
   },
   "file_extension": ".py",
   "mimetype": "text/x-python",
   "name": "python",
   "nbconvert_exporter": "python",
   "pygments_lexer": "ipython3",
   "version": "3.11.4"
  }
 },
 "nbformat": 4,
 "nbformat_minor": 5
}
